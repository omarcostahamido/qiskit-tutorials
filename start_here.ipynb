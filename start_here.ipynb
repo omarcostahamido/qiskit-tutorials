{
 "cells": [
  {
   "cell_type": "markdown",
   "metadata": {},
   "source": [
    "![qiskit_header.png](images/qiskit_header.png)"
   ]
  },
  {
   "cell_type": "markdown",
   "metadata": {},
   "source": [
    "# Qiskit Tutorials\n",
    "\n",
    "Welcome Qiskitters.\n",
    "\n",
    "\n",
    "These tutorials aim to explain how to use Qiskit. We assume you have installed Qiskit; if not, please look at [qiskit.org](http://www.qiskit.org) or the install [documentation](https://qiskit.org/documentation/install.html). \n",
    "\n",
    "The focus of these notebooks is not on learning quantum computing.  Instead we will focus on how to use Qiskit, and will go into details only when needed. For those interested in learning about quantum computing we recommend the [Qiskit Textbook](https://qiskit.org/textbook) that we and the community have put together, or the [Qiskit documentation](https://qiskit.org/documentation).\n",
    "\n",
    "Qiskit is made up of four elements: **Terra**, **Aer**, **Ignis**, and **Aqua**. Each element has its own focus, and together they make up the full Qiskit framework. \n",
    "\n",
    "\n",
    "## Terra Fundamentals - Getting Started\n",
    "\n",
    "This section gives you the tools to make your first circuits, execute them, and view the data.\n",
    "\n",
    "1. [Getting started with Qiskit](tutorials/terra/fundamentals/1_getting_started_with_qiskit.ipynb) - How to use Qiskit.\n",
    "\n",
    "\n",
    "2. [Plotting data in Qiskit](tutorials/terra/fundamentals/2_plotting_data_in_qiskit.ipynb) -  Illustrates the different ways of plotting data in Qiskit.\n",
    "\n",
    "\n",
    "3. [Summary of quantum operations](tutorials/terra/fundamentals/3_summary_of_quantum_operations.ipynb) - List of quantum operations (gates, reset, measurements) in Qiskit Terra\n",
    "  \n",
    "        \n",
    "## Terra Advanced\n",
    "\n",
    "Terra, the ‘earth’ element, is the foundation on which the rest of the software lies. Terra provides a bedrock for composing quantum programs at the level of circuits and pulses, to optimize them for the constraints of a particular device, and to manage the execution of batches of experiments on remote-access devices. Terra defines the interfaces for a desirable end-user experience, as well as the efficient handling of layers of optimization, pulse scheduling and backend communication.\n",
    "\n",
    "1. [Advanced circuits](tutorials/terra/advanced/1_advanced_circuits.ipynb) - Circuit building tools added including registerless declarations, composite gate updates and parameterized circuits.\n",
    "\n",
    "\n",
    "2. [Operators overview](tutorials/terra/advanced/2_operators_overview.ipynb) - Gives a summary of the features and uses of the Operator class.\n",
    "\n",
    "\n",
    "3. [Advanced circuit visualization](tutorials/terra/advanced/3_advanced_circuit_visualization.ipynb) - Details on drawing your quantum circuits.\n",
    "\n",
    "\n",
    "4. [Transpiler passes and passmanager](tutorials/terra/advanced/4_transpiler_passes_and_passmanager.ipynb) - How to use the transpiler passes, passmanger, and extend the transpiler with a new pass.\n",
    "\n",
    "\n",
    "##  Aer\n",
    "\n",
    "Aer, the ‘air’ element, permeates all Qiskit elements. To really speed up development of quantum computers, we need better simulators with the ability to model realistic noise processes that occur during computation on actual devices. Aer provides a high-performance simulator framework for studying quantum computing algorithms and applications in the noisy intermediate-scale quantum regime. \n",
    "1. [Aer provider](tutorials/aer/1_aer_provider.ipynb) - Gives a summary of the Qiskit Aer provider containing the Qasm, statevector, and unitary simulator.\n",
    "\n",
    "\n",
    "2. [Device noise simulation](tutorials/aer/2_device_noise_simulation.ipynb) - Shows how to use the Qiskit Aer noise module to automatically generate a basic noise model for simulating hardware backends.\n",
    "\n",
    "\n",
    "3. [Building noise models](tutorials/aer/3_building_noise_models.ipynb) - Shows how to use Qiskit Aer noise module to construct custom noise models for noisy simulations\n",
    "\n",
    "\n",
    "4. [Custom gate noise](tutorials/aer/4_custom_gate_noise.ipynb) - Shows to implement simulations using custom noisy gates.\n",
    "\n",
    "\n",
    "5. [Noise transformations](tutorials/aer/5_noise_transformation.ipynb) - Noise approximation utility functions to construct approximate Clifford noise models out of a general noise model\n",
    "\n",
    "\n",
    "6. [Extended stabilizer tutorial](tutorials/aer/6_extended_stabilizer_tutorial.ipynb) - Gives an overview of the *extended stabilizer* Qasm Simulator method\n",
    "\n",
    "\n",
    "7. [Matrix Product State simulator](tutorials/aer/7_matrix_product_state_method.ipynb) - Gives an overview of the *matrix product state* Simulator method\n",
    "\n",
    "\n",
    "##  Ignis\n",
    "\n",
    "Ignis, the ‘fire’ element, is dedicated to fighting noise and errors and to forging a new path. This includes better characterization of errors, improving gates, and computing in the presence of noise. Ignis is meant for those who want to design quantum error correction codes, or who wish to study ways to characterize errors through methods such as tomography and randomized benchmarking, or even to find a better way for using gates by exploring dynamical decoupling and optimal control.\n",
    "\n",
    "1. [Hamiltonian and gate characterizations](tutorials/ignis/1_hamiltonian_and_gate_characterization.ipynb) - Sequences to measure ZZ rates between qubits and to measure rotation and angle errors in the gates.\n",
    "\n",
    "\n",
    "2. [Relaxation and decoherence](tutorials/ignis/2_relaxation_and_decoherence.ipynb) - How to measure coherence times on the real quantum hardware\n",
    "\n",
    "\n",
    "3. [Measurement error mitigation](tutorials/ignis/3_measurement_error_mitigation.ipynb) - How to peform calibration experiments for measurement errors and fed those calibrations into a \"filter\" that can be utilized to mitigate errors in subsequent experiments.\n",
    "\n",
    "\n",
    "4. [Randomized benchmarking](tutorials/ignis/4_randomized_benchmarking.ipynb) - Randomized benchmarking (RB) is a technique used to measure the average gate error by measuring the outcomes of random Clifford circuits. This is used internally to report gate errors on our systems. \n",
    "\n",
    "\n",
    "5. [Quantum volume](tutorials/ignis/5_quantum_volume.ipynb) - How to run quantum volume measurements on the quantum hardware.\n",
    "\n",
    "\n",
    "6. [Repetition Code](tutorials/ignis/6_repetition_code.ipynb) - How to run a simple error correction code, known as the repetition code. This can be used to characterize bit flip errors in the hardware.\n",
    "\n",
    "\n",
    "7. [Accreditation](tutorials/ignis/7_accreditation.ipynb) - protocol devised to characterize the reliability of noisy quantum devices.\n",
    " \n",
    " \n",
    "##  Aqua\n",
    "\n",
    "Aqua, the ‘water’ element, is the element of life. To make quantum computing live up to its expectations, we need to find real-world applications. Aqua is where algorithms for NISQ computers are built. These algorithms can be used to build applications for quantum computing.\n",
    "\n",
    "\n",
    "### Optimization\n",
    "\n",
    "1. [Hamiltonian and gate characterizations](tutorials/aqua/optimization/1_optimization_problems.ipynb) - Introduce how to construct an optimization models with Qiskit Optimization.\n",
    "\n",
    "\n",
    "2. [Quadratic Program Converters](tutorials/aqua/optimization/2_converters_for_quadratic_programs.ipynb) - Qiskit Optimization provides with `QuadraticProgram` a very generic and powerful representation for optimization problems\n",
    "\n",
    "\n",
    "3. [Grover Optimizer](tutorials/aqua/optimization/4_grover_optimizer.ipynb) - Explore each component of the `GroverOptimizer`, which utilizes the techniques described in GAS, by minimizing a Quadratic Unconstrained Binary Optimization (QUBO) problem"
   ]
  },
  {
   "cell_type": "code",
   "execution_count": 2,
   "metadata": {
    "ExecuteTime": {
     "end_time": "2019-08-09T15:31:26.743124Z",
     "start_time": "2019-08-09T15:31:26.732618Z"
    }
   },
   "outputs": [
    {
     "data": {
      "text/html": [
       "<div style='width: 100%; background-color:#d5d9e0;padding-left: 10px; padding-bottom: 10px; padding-right: 10px; padding-top: 5px'><h3>This code is a part of Qiskit</h3><p>&copy; Copyright IBM 2017, 2020.</p><p>This code is licensed under the Apache License, Version 2.0. You may<br>obtain a copy of this license in the LICENSE.txt file in the root directory<br> of this source tree or at http://www.apache.org/licenses/LICENSE-2.0.<p>Any modifications or derivative works of this code must retain this<br>copyright notice, and modified files need to carry a notice indicating<br>that they have been altered from the originals.</p></div>"
      ],
      "text/plain": [
       "<IPython.core.display.HTML object>"
      ]
     },
     "metadata": {},
     "output_type": "display_data"
    }
   ],
   "source": [
    "import qiskit.tools.jupyter\n",
    "%qiskit_copyright"
   ]
  },
  {
   "cell_type": "code",
   "execution_count": null,
   "metadata": {
    "collapsed": true
   },
   "outputs": [],
   "source": []
  }
 ],
 "metadata": {
  "hide_input": false,
  "kernelspec": {
   "display_name": "Python 3",
   "language": "python",
   "name": "python3"
  },
  "language_info": {
   "codemirror_mode": {
    "name": "ipython",
    "version": 3
   },
   "file_extension": ".py",
   "mimetype": "text/x-python",
   "name": "python",
   "nbconvert_exporter": "python",
   "pygments_lexer": "ipython3",
   "version": "3.7.3"
  },
  "varInspector": {
   "cols": {
    "lenName": 16,
    "lenType": 16,
    "lenVar": 40
   },
   "kernels_config": {
    "python": {
     "delete_cmd_postfix": "",
     "delete_cmd_prefix": "del ",
     "library": "var_list.py",
     "varRefreshCmd": "print(var_dic_list())"
    },
    "r": {
     "delete_cmd_postfix": ") ",
     "delete_cmd_prefix": "rm(",
     "library": "var_list.r",
     "varRefreshCmd": "cat(var_dic_list()) "
    }
   },
   "types_to_exclude": [
    "module",
    "function",
    "builtin_function_or_method",
    "instance",
    "_Feature"
   ],
   "window_display": false
  }
 },
 "nbformat": 4,
 "nbformat_minor": 2
}
